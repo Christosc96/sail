{
 "cells": [
  {
   "cell_type": "markdown",
   "metadata": {},
   "source": [
    "## Regression analysis Example\n"
   ]
  },
  {
   "cell_type": "code",
   "execution_count": 1,
   "metadata": {},
   "outputs": [],
   "source": [
    "import numpy as np\n",
    "import pandas as pd\n",
    "import seaborn as sns"
   ]
  },
  {
   "cell_type": "markdown",
   "metadata": {},
   "source": []
  },
  {
   "cell_type": "code",
   "execution_count": 2,
   "metadata": {},
   "outputs": [],
   "source": [
    "N = 10000\n",
    "x_left = np.random.uniform(0,.5, N)\n",
    "x_right = np.random.uniform(.5,1, N)\n",
    "x_full = np.append(x_left, x_right)\n"
   ]
  },
  {
   "cell_type": "code",
   "execution_count": 3,
   "metadata": {},
   "outputs": [],
   "source": [
    "def true_y(x):\n",
    "    if x<.5:\n",
    "        y = .3*x\n",
    "    else: \n",
    "        y = -.1*x\n",
    "        \n",
    "    return y\n",
    "y_left = np.array([true_y(x1) for x1 in x_left])\n",
    "y_right = np.array([true_y(x1) for x1 in x_right])\n",
    "\n",
    "y_full = np.array([true_y(x1) for x1 in x_full])"
   ]
  },
  {
   "cell_type": "code",
   "execution_count": 4,
   "metadata": {},
   "outputs": [],
   "source": [
    "df_left = pd.DataFrame({'x': x_left, 'y': y_left})\n",
    "X_left = df_left['x']\n",
    "X_left = X_left.values.reshape(-1,1)\n",
    "y_left = df_left['y']\n",
    "\n",
    "df_right = pd.DataFrame({'x': x_right, 'y': y_right})\n",
    "X_right = df_right['x']\n",
    "X_right = X_right.values.reshape(-1,1)\n",
    "y_right = df_right['y']\n",
    "\n",
    "df_full = pd.DataFrame({'x': x_full, 'y': y_full})\n",
    "X_full = df_full['x']\n",
    "X_full = X_full.values.reshape(-1,1)\n",
    "y_full = df_full['y']"
   ]
  },
  {
   "cell_type": "code",
   "execution_count": 5,
   "metadata": {},
   "outputs": [
    {
     "data": {
      "text/html": [
       "<iframe\n",
       "    scrolling=\"no\"\n",
       "    width=\"100%\"\n",
       "    height=\"545px\"\n",
       "    src=\"iframe_figures/figure_5.html\"\n",
       "    frameborder=\"0\"\n",
       "    allowfullscreen\n",
       "></iframe>\n"
      ]
     },
     "metadata": {},
     "output_type": "display_data"
    }
   ],
   "source": [
    "import plotly.io as pio\n",
    "pio.renderers.default = 'iframe'\n",
    "import plotly.express as px\n",
    "df_full_plot = df_full.sort_values(by=['x'])\n",
    "fig = px.line(df_full_plot, x='x', y = 'y')\n",
    "fig.show()"
   ]
  },
  {
   "cell_type": "markdown",
   "metadata": {},
   "source": [
    "#### Linear Regression vs SGDRegressor\n"
   ]
  },
  {
   "cell_type": "markdown",
   "metadata": {},
   "source": []
  },
  {
   "cell_type": "markdown",
   "metadata": {},
   "source": []
  },
  {
   "cell_type": "code",
   "execution_count": 6,
   "metadata": {},
   "outputs": [
    {
     "data": {
      "text/plain": [
       "SGDRegressor(learning_rate='constant')"
      ]
     },
     "execution_count": 6,
     "metadata": {},
     "output_type": "execute_result"
    }
   ],
   "source": [
    "from sklearn.linear_model import LinearRegression\n",
    "from sklearn import metrics\n",
    "from sklearn.model_selection import train_test_split\n",
    "from sklearn.linear_model import SGDRegressor\n",
    "\n",
    "X_train, X_test, y_train, y_test = train_test_split(X_left, y_left, test_size=0.3, random_state=0)\n",
    "model = LinearRegression()\n",
    "model.fit(X_train, y_train)\n",
    "\n",
    "model_partial = SGDRegressor(learning_rate='constant')\n",
    "model_partial.partial_fit(X_train, y_train)"
   ]
  },
  {
   "cell_type": "code",
   "execution_count": 7,
   "metadata": {
    "scrolled": true
   },
   "outputs": [
    {
     "name": "stdout",
     "output_type": "stream",
     "text": [
      "Accuracy of linear regression classifier on test set: 1.00\n",
      "Accuracy of incremental linear regression classifier on test set: 0.94\n"
     ]
    }
   ],
   "source": [
    "y_pred = model.predict(X_test)\n",
    "y_pred_partial = model_partial.predict(X_test)\n",
    "\n",
    "print('Accuracy of linear regression classifier on test set: {:.2f}'.format(model.score(X_test, y_test)))\n",
    "print('Accuracy of incremental linear regression classifier on test set: {:.2f}'.format(model_partial.score(X_test, y_test)))"
   ]
  },
  {
   "cell_type": "code",
   "execution_count": 8,
   "metadata": {},
   "outputs": [],
   "source": [
    "x_left_test = np.random.uniform(0,0.50, N)\n",
    "x_right_test = np.random.uniform(0.50,1.0, N)\n",
    "\n",
    "y_left_test = np.array([true_y(x1) for x1 in x_left_test])\n",
    "y_right_test = np.array([true_y(x1) for x1 in x_right_test])\n",
    "\n",
    "df_left_test = pd.DataFrame({'x': x_left_test, 'y': y_left_test})\n",
    "df_left_test = df_left_test.sort_values(by=['x'])\n",
    "X_left_test = df_left_test['x']\n",
    "X_left_test = X_left_test.values.reshape(-1,1)\n",
    "y_left_test = df_left_test['y']\n",
    "\n",
    "\n",
    "df_right_test = pd.DataFrame({'x': x_right_test, 'y': y_right_test})\n",
    "df_right_test = df_right_test.sort_values(by=['x'])\n",
    "X_right_test = df_right_test['x']\n",
    "X_right_test = X_right_test.values.reshape(-1,1)\n",
    "y_right_test = df_right_test['y']"
   ]
  },
  {
   "cell_type": "markdown",
   "metadata": {
    "tags": []
   },
   "source": [
    "# Model Monitoring"
   ]
  },
  {
   "cell_type": "markdown",
   "metadata": {},
   "source": [
    " "
   ]
  },
  {
   "cell_type": "code",
   "execution_count": 9,
   "metadata": {},
   "outputs": [
    {
     "name": "stdout",
     "output_type": "stream",
     "text": [
      "Accuracy of linear regression classifier on test set: 1.00\n",
      "Accuracy of incremental linear regression classifier on test set: 0.94\n"
     ]
    }
   ],
   "source": [
    "X_test = X_left_test\n",
    "y_pred = model.predict(X_test)\n",
    "y_pred_partial = model_partial.predict(X_test)\n",
    "y_test = y_left_test\n",
    "print('Accuracy of linear regression classifier on test set: {:.2f}'.format(model.score(X_test, y_test)))\n",
    "print('Accuracy of incremental linear regression classifier on test set: {:.2f}'.format(model_partial.score(X_test, y_test)))"
   ]
  },
  {
   "cell_type": "code",
   "execution_count": 10,
   "metadata": {},
   "outputs": [
    {
     "data": {
      "text/html": [
       "<iframe\n",
       "    scrolling=\"no\"\n",
       "    width=\"100%\"\n",
       "    height=\"545px\"\n",
       "    src=\"iframe_figures/figure_10.html\"\n",
       "    frameborder=\"0\"\n",
       "    allowfullscreen\n",
       "></iframe>\n"
      ]
     },
     "metadata": {},
     "output_type": "display_data"
    }
   ],
   "source": [
    "import plotly.io as pio\n",
    "pio.renderers.default = 'iframe'\n",
    "import plotly.express as px\n",
    "import plotly.graph_objects as go\n",
    "fig = go.Figure()\n",
    "fig.add_trace(go.Scatter(x=np.ravel(X_test), y=y_test,\n",
    "                    mode='lines',\n",
    "                    name='observed'))\n",
    "fig.add_trace(go.Scatter(x=np.ravel(X_test), y=y_pred,\n",
    "                    mode='lines',\n",
    "                    name='predicted'))\n",
    "fig.add_trace(go.Scatter(x=np.ravel(X_test), y=y_pred_partial,\n",
    "                    mode='lines',\n",
    "                    name='predicted_partial'))\n",
    "# fig = px.line(np.ravel(X_test), y_test)\n",
    "fig.show()"
   ]
  },
  {
   "cell_type": "markdown",
   "metadata": {},
   "source": [
    "# Model drift\n"
   ]
  },
  {
   "cell_type": "code",
   "execution_count": 11,
   "metadata": {},
   "outputs": [
    {
     "name": "stdout",
     "output_type": "stream",
     "text": [
      "Accuracy of linear regression classifier on test set: -448.97\n",
      "Accuracy of incremental linear regression classifier on test set: -342.85\n"
     ]
    }
   ],
   "source": [
    "X_test = X_right_test\n",
    "y_pred = model.predict(X_test)\n",
    "y_pred_partial = model_partial.predict(X_test)\n",
    "y_test = y_right_test\n",
    "print('Accuracy of linear regression classifier on test set: {:.2f}'.format(model.score(X_test, y_test)))\n",
    "print('Accuracy of incremental linear regression classifier on test set: {:.2f}'.format(model_partial.score(X_test, y_test)))"
   ]
  },
  {
   "cell_type": "code",
   "execution_count": 12,
   "metadata": {},
   "outputs": [
    {
     "data": {
      "text/html": [
       "<iframe\n",
       "    scrolling=\"no\"\n",
       "    width=\"100%\"\n",
       "    height=\"545px\"\n",
       "    src=\"iframe_figures/figure_12.html\"\n",
       "    frameborder=\"0\"\n",
       "    allowfullscreen\n",
       "></iframe>\n"
      ]
     },
     "metadata": {},
     "output_type": "display_data"
    }
   ],
   "source": [
    "import plotly.io as pio\n",
    "pio.renderers.default = 'iframe'\n",
    "import plotly.express as px\n",
    "import plotly.graph_objects as go\n",
    "fig = go.Figure()\n",
    "fig.add_trace(go.Scatter(x=np.ravel(X_test), y=y_test,\n",
    "                    mode='lines',\n",
    "                    name='observed'))\n",
    "fig.add_trace(go.Scatter(x=np.ravel(X_test), y=y_pred,\n",
    "                    mode='lines',\n",
    "                    name='predicted'))\n",
    "fig.add_trace(go.Scatter(x=np.ravel(X_test), y=y_pred_partial,\n",
    "                    mode='lines',\n",
    "                    name='predicted_partial'))\n",
    "# fig = px.line(np.ravel(X_test), y_test)\n",
    "fig.show()"
   ]
  },
  {
   "cell_type": "markdown",
   "metadata": {},
   "source": [
    "# Model  Retraining"
   ]
  },
  {
   "cell_type": "markdown",
   "metadata": {},
   "source": [
    "#### What happens if N is increased?\n",
    "#### What happens if it is not trained in mini batches?"
   ]
  },
  {
   "cell_type": "code",
   "execution_count": 13,
   "metadata": {},
   "outputs": [],
   "source": [
    "from sklearn.linear_model import LinearRegression\n",
    "from sklearn import metrics\n",
    "from sklearn.model_selection import train_test_split\n",
    "N1= int(N/10)\n",
    "for i in range(0,N1):\n",
    "    n1 = int(N*i/N1)\n",
    "    n2 = int(N*(i+1)/N1)\n",
    "    X_train, X_test, y_train, y_test = train_test_split(X_right[n1:n2], y_right[n1:n2], test_size=0.01, random_state=0, shuffle=False)\n",
    "    model_partial.partial_fit(X_train, y_train)\n",
    "    model.fit(X_train, y_train)\n",
    "\n"
   ]
  },
  {
   "cell_type": "code",
   "execution_count": 14,
   "metadata": {},
   "outputs": [
    {
     "name": "stdout",
     "output_type": "stream",
     "text": [
      "Accuracy of linear regression classifier on test set: 1.00\n",
      "Accuracy of incremental linear regression classifier on test set: 0.66\n"
     ]
    }
   ],
   "source": [
    "X_test = X_right_test\n",
    "y_pred = model.predict(X_test)\n",
    "y_pred_partial = model_partial.predict(X_test)\n",
    "y_test = y_right_test\n",
    "print('Accuracy of linear regression classifier on test set: {:.2f}'.format(model.score(X_test, y_test)))\n",
    "print('Accuracy of incremental linear regression classifier on test set: {:.2f}'.format(model_partial.score(X_test, y_test)))"
   ]
  },
  {
   "cell_type": "code",
   "execution_count": 15,
   "metadata": {},
   "outputs": [
    {
     "data": {
      "text/html": [
       "<iframe\n",
       "    scrolling=\"no\"\n",
       "    width=\"100%\"\n",
       "    height=\"545px\"\n",
       "    src=\"iframe_figures/figure_15.html\"\n",
       "    frameborder=\"0\"\n",
       "    allowfullscreen\n",
       "></iframe>\n"
      ]
     },
     "metadata": {},
     "output_type": "display_data"
    }
   ],
   "source": [
    "import plotly.io as pio\n",
    "pio.renderers.default = 'iframe'\n",
    "import plotly.express as px\n",
    "import plotly.graph_objects as go\n",
    "fig = go.Figure()\n",
    "fig.add_trace(go.Scatter(x=np.ravel(X_test), y=y_test,\n",
    "                    mode='lines',\n",
    "                    name='observed'))\n",
    "fig.add_trace(go.Scatter(x=np.ravel(X_test), y=y_pred,\n",
    "                    mode='lines',\n",
    "                    name='predicted'))\n",
    "fig.add_trace(go.Scatter(x=np.ravel(X_test), y=y_pred_partial,\n",
    "                    mode='lines',\n",
    "                    name='predicted_partial'))\n",
    "# fig = px.line(np.ravel(X_test), y_test)\n",
    "fig.show()"
   ]
  },
  {
   "cell_type": "code",
   "execution_count": 16,
   "metadata": {},
   "outputs": [
    {
     "name": "stdout",
     "output_type": "stream",
     "text": [
      "Accuracy of linear regression classifier on test set: -6.15\n",
      "Accuracy of incremental linear regression classifier on test set: -9.26\n"
     ]
    }
   ],
   "source": [
    "X_test = X_left_test\n",
    "y_pred = model.predict(X_test)\n",
    "y_pred_partial = model_partial.predict(X_test)\n",
    "y_test = y_left_test\n",
    "print('Accuracy of linear regression classifier on test set: {:.2f}'.format(model.score(X_test, y_test)))\n",
    "print('Accuracy of incremental linear regression classifier on test set: {:.2f}'.format(model_partial.score(X_test, y_test)))"
   ]
  },
  {
   "cell_type": "code",
   "execution_count": 17,
   "metadata": {},
   "outputs": [
    {
     "data": {
      "text/html": [
       "<iframe\n",
       "    scrolling=\"no\"\n",
       "    width=\"100%\"\n",
       "    height=\"545px\"\n",
       "    src=\"iframe_figures/figure_17.html\"\n",
       "    frameborder=\"0\"\n",
       "    allowfullscreen\n",
       "></iframe>\n"
      ]
     },
     "metadata": {},
     "output_type": "display_data"
    }
   ],
   "source": [
    "import plotly.io as pio\n",
    "pio.renderers.default = 'iframe'\n",
    "import plotly.express as px\n",
    "import plotly.graph_objects as go\n",
    "fig = go.Figure()\n",
    "fig.add_trace(go.Scatter(x=np.ravel(X_test), y=y_test,\n",
    "                    mode='lines',\n",
    "                    name='observed'))\n",
    "fig.add_trace(go.Scatter(x=np.ravel(X_test), y=y_pred,\n",
    "                    mode='lines',\n",
    "                    name='predicted'))\n",
    "fig.add_trace(go.Scatter(x=np.ravel(X_test), y=y_pred_partial,\n",
    "                    mode='lines',\n",
    "                    name='predicted_partial'))\n",
    "fig.show()"
   ]
  },
  {
   "cell_type": "markdown",
   "metadata": {},
   "source": [
    "## Holy grail: Continual learning?"
   ]
  },
  {
   "cell_type": "code",
   "execution_count": null,
   "metadata": {},
   "outputs": [],
   "source": []
  }
 ],
 "metadata": {
  "kernelspec": {
   "display_name": "Python 3 (ipykernel)",
   "language": "python",
   "name": "python3"
  },
  "language_info": {
   "codemirror_mode": {
    "name": "ipython",
    "version": 3
   },
   "file_extension": ".py",
   "mimetype": "text/x-python",
   "name": "python",
   "nbconvert_exporter": "python",
   "pygments_lexer": "ipython3",
   "version": "3.8.12"
  }
 },
 "nbformat": 4,
 "nbformat_minor": 4
}
