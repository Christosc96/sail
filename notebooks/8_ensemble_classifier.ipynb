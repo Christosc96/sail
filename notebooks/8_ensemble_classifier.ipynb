{
 "cells": [
  {
   "cell_type": "markdown",
   "id": "f4cd3cba-cd5b-4fba-a7e7-32299ed76a65",
   "metadata": {},
   "source": [
    "Code from : https://github.com/online-ml/river/blob/main/river/ensemble/ewa.py"
   ]
  },
  {
   "cell_type": "code",
   "execution_count": null,
   "id": "3fb8ae33-7a81-43e2-b2d5-520d2f7a03da",
   "metadata": {},
   "outputs": [],
   "source": [
    "import collections\n",
    "from typing import List\n",
    "\n",
    "from river import base, linear_model, naive_bayes, tree\n",
    "\n",
    "from river import datasets\n",
    "from river import ensemble\n",
    "from river import evaluate\n",
    "from river import linear_model\n",
    "from river import metrics\n",
    "from river import naive_bayes\n",
    "from river import preprocessing\n",
    "from river import tree\n",
    "from river import base"
   ]
  },
  {
   "cell_type": "code",
   "execution_count": 34,
   "id": "abaf5a36-0238-49ea-b42c-d04e82c52633",
   "metadata": {},
   "outputs": [],
   "source": [
    "class VotingClassifier1(base.Classifier, base.Ensemble):\n",
    "    \"\"\"Voting classifier.\n",
    "    \"\"\"\n",
    "\n",
    "    def __init__(self, models: List[base.Classifier], use_probabilities=True):\n",
    "        super().__init__(models)\n",
    "        self.use_probabilities = use_probabilities\n",
    "\n",
    "    def learn_one(self, x, y):\n",
    "        for model in self:\n",
    "            model.learn_one(x, y)\n",
    "        return self\n",
    "\n",
    "    def predict_one(self, x):\n",
    "        if self.use_probabilities:\n",
    "            votes = (model.predict_proba_one(x) for model in self)\n",
    "        else:\n",
    "            votes = ({model.predict_one(x): 1} for model in self)\n",
    "        agg = collections.Counter()\n",
    "        for vote in votes:\n",
    "            agg.update(vote)\n",
    "        return agg.most_common(1)[0][0]"
   ]
  },
  {
   "cell_type": "code",
   "execution_count": 35,
   "id": "72a84ed1-54bf-4fee-9fc4-a2afdb3143c0",
   "metadata": {},
   "outputs": [],
   "source": [
    "dataset = datasets.Bananas()"
   ]
  },
  {
   "cell_type": "code",
   "execution_count": 36,
   "id": "224c7b01-0062-471b-a2c5-0df920a147e6",
   "metadata": {},
   "outputs": [],
   "source": [
    "model_lr = (\n",
    "     preprocessing.StandardScaler() |\n",
    "         linear_model.LogisticRegression()\n",
    "     )\n",
    " \n",
    "\n",
    "model_ht = (\n",
    "     preprocessing.StandardScaler() |\n",
    "         tree.HoeffdingTreeClassifier()\n",
    "     )\n",
    " \n",
    "\n",
    "model_nb = (\n",
    "     preprocessing.StandardScaler() |\n",
    "         naive_bayes.GaussianNB()\n",
    "     )\n",
    " \n",
    "\n",
    "\n",
    "model = (\n",
    "     preprocessing.StandardScaler() |\n",
    "     VotingClassifier1([\n",
    "         linear_model.LogisticRegression(),\n",
    "         tree.HoeffdingTreeClassifier(),\n",
    "         naive_bayes.GaussianNB()\n",
    "     ])\n",
    " )\n"
   ]
  },
  {
   "cell_type": "code",
   "execution_count": 37,
   "id": "0139b54f-1976-427e-bbd7-635bb8ee642a",
   "metadata": {},
   "outputs": [
    {
     "name": "stdout",
     "output_type": "stream",
     "text": [
      "F1: 0.221093\n",
      "F1: 0.374481\n",
      "F1: 0.387815\n",
      "F1: 0.399286\n"
     ]
    }
   ],
   "source": [
    "metric = metrics.F1()\n",
    "print(evaluate.progressive_val_score(dataset, model_lr, metric))\n",
    "print(evaluate.progressive_val_score(dataset, model_ht, metric))\n",
    "print(evaluate.progressive_val_score(dataset, model_nb, metric))\n",
    "print(evaluate.progressive_val_score(dataset, model, metric))\n"
   ]
  },
  {
   "cell_type": "code",
   "execution_count": null,
   "id": "82667b08-8e63-4583-8961-6692472447b3",
   "metadata": {},
   "outputs": [],
   "source": []
  }
 ],
 "metadata": {
  "kernelspec": {
   "display_name": "Python 3 (ipykernel)",
   "language": "python",
   "name": "python3"
  },
  "language_info": {
   "codemirror_mode": {
    "name": "ipython",
    "version": 3
   },
   "file_extension": ".py",
   "mimetype": "text/x-python",
   "name": "python",
   "nbconvert_exporter": "python",
   "pygments_lexer": "ipython3",
   "version": "3.8.12"
  }
 },
 "nbformat": 4,
 "nbformat_minor": 5
}
